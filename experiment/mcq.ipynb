{
 "cells": [
  {
   "cell_type": "code",
   "execution_count": 1,
   "id": "e1ed982a",
   "metadata": {},
   "outputs": [
    {
     "data": {
      "text/plain": [
       "True"
      ]
     },
     "execution_count": 1,
     "metadata": {},
     "output_type": "execute_result"
    }
   ],
   "source": [
    "# Imports for Gemini (LangChain) in the same structure as OpenAI\n",
    "from langchain_google_genai import ChatGoogleGenerativeAI\n",
    "from langchain.prompts import PromptTemplate\n",
    "from langchain.chains import LLMChain\n",
    "from langchain.chains import SequentialChain  # keep if you still use it elsewhere\n",
    "from langchain_core.output_parsers import StrOutputParser\n",
    "from langchain.callbacks import StdOutCallbackHandler\n",
    "# Note: LLMChain is deprecated; use Prompt | llm | StrOutputParser instead.\n",
    "\n",
    "import os\n",
    "import json\n",
    "import pandas as pd\n",
    "import traceback\n",
    "from dotenv import load_dotenv\n",
    "import PyPDF2\n",
    "\n",
    "# Load environment variables from .env (expects GOOGLE_API_KEY)\n",
    "load_dotenv()\n"
   ]
  },
  {
   "cell_type": "code",
   "execution_count": 3,
   "id": "0b6e8c85",
   "metadata": {},
   "outputs": [],
   "source": [
    "KEY = os.getenv(\"GOOGLE_API_KEY\")"
   ]
  },
  {
   "cell_type": "code",
   "execution_count": 8,
   "id": "98b3cafe",
   "metadata": {},
   "outputs": [
    {
     "name": "stdout",
     "output_type": "stream",
     "text": [
      "OK\n"
     ]
    }
   ],
   "source": [
    "llm = ChatGoogleGenerativeAI(model=\"gemini-1.5-flash\", temperature=0.6, google_api_key=KEY)\n",
    "print(llm.invoke(\"Reply with OK\").content)"
   ]
  },
  {
   "cell_type": "code",
   "execution_count": 5,
   "id": "0b86e8e5",
   "metadata": {},
   "outputs": [
    {
     "data": {
      "text/plain": [
       "ChatGoogleGenerativeAI(model='models/gemini-1.5-flash', google_api_key=SecretStr('**********'), temperature=0.6, client=<google.ai.generativelanguage_v1beta.services.generative_service.client.GenerativeServiceClient object at 0x00000283B80A3380>, default_metadata=())"
      ]
     },
     "execution_count": 5,
     "metadata": {},
     "output_type": "execute_result"
    }
   ],
   "source": [
    "llm"
   ]
  },
  {
   "cell_type": "code",
   "execution_count": 9,
   "id": "908bea9c",
   "metadata": {},
   "outputs": [],
   "source": [
    "RESPONSE_JSON = {\n",
    "    \"1\": {\n",
    "        \"mcq\": \"multiple choice question\",\n",
    "        \"options\": {\n",
    "            \"a\": \"choice here\",\n",
    "            \"b\": \"choice here\",\n",
    "            \"c\": \"choice here\",\n",
    "            \"d\": \"choice here\",\n",
    "        },\n",
    "        \"correct\": \"correct answer\",\n",
    "    },\n",
    "    \"2\": {\n",
    "        \"mcq\": \"multiple choice question\",\n",
    "        \"options\": {\n",
    "            \"a\": \"choice here\",\n",
    "            \"b\": \"choice here\",\n",
    "            \"c\": \"choice here\",\n",
    "            \"d\": \"choice here\",\n",
    "        },\n",
    "        \"correct\": \"correct answer\",\n",
    "    },\n",
    "    \"3\": {\n",
    "        \"mcq\": \"multiple choice question\",\n",
    "        \"options\": {\n",
    "            \"a\": \"choice here\",\n",
    "            \"b\": \"choice here\",\n",
    "            \"c\": \"choice here\",\n",
    "            \"d\": \"choice here\",\n",
    "        },\n",
    "        \"correct\": \"correct answer\",\n",
    "    },\n",
    "}"
   ]
  },
  {
   "cell_type": "code",
   "execution_count": 6,
   "id": "6702d74e",
   "metadata": {},
   "outputs": [],
   "source": [
    "TEMPLATE=\"\"\"\n",
    "Text:{text}\n",
    "You are an expert MCQ maker. Given the above text, it is your job to \\\n",
    "create a quiz  of {number} multiple choice questions for {subject} students in {tone} tone. \n",
    "Make sure the questions are not repeated and check all the questions to be conforming the text as well.\n",
    "Make sure to format your response like  RESPONSE_JSON below  and use it as a guide. \\\n",
    "Ensure to make {number} MCQs\n",
    "### RESPONSE_JSON\n",
    "{response_json}\n",
    "\n",
    "\"\"\""
   ]
  },
  {
   "cell_type": "code",
   "execution_count": 7,
   "id": "bf47ef65",
   "metadata": {},
   "outputs": [],
   "source": [
    "quiz_generation_prompt = PromptTemplate(\n",
    "    input_variables=[\"text\", \"number\", \"subject\", \"tone\", \"response_json\"],\n",
    "    template=TEMPLATE\n",
    "    )"
   ]
  },
  {
   "cell_type": "code",
   "execution_count": 39,
   "id": "5764fe1d",
   "metadata": {},
   "outputs": [],
   "source": [
    "quiz_chain=LLMChain(llm=llm, prompt=quiz_generation_prompt, output_key=\"quiz\", verbose=True)"
   ]
  },
  {
   "cell_type": "code",
   "execution_count": 40,
   "id": "98437f3e",
   "metadata": {},
   "outputs": [],
   "source": [
    "TEMPLATE=\"\"\"\n",
    "You are an expert english grammarian and writer. Given a Multiple Choice Quiz for {subject} students.\\\n",
    "You need to evaluate the complexity of the question and give a complete analysis of the quiz. Only use at max 50 words for complexity analysis. \n",
    "if the quiz is not at per with the cognitive and analytical abilities of the students,\\\n",
    "update the quiz questions which needs to be changed and change the tone such that it perfectly fits the student abilities\n",
    "Quiz_MCQs:\n",
    "{quiz}\n",
    "\n",
    "Check from an expert English Writer of the above quiz:\n",
    "\"\"\""
   ]
  },
  {
   "cell_type": "code",
   "execution_count": 41,
   "id": "dc01aa80",
   "metadata": {},
   "outputs": [],
   "source": [
    "quiz_evaluation_prompt=PromptTemplate(input_variables=[\"subject\", \"quiz\"], template=TEMPLATE)"
   ]
  },
  {
   "cell_type": "code",
   "execution_count": 42,
   "id": "56b89792",
   "metadata": {},
   "outputs": [],
   "source": [
    "review_chain=LLMChain(llm=llm, prompt=quiz_evaluation_prompt, output_key=\"review\", verbose=True)"
   ]
  },
  {
   "cell_type": "code",
   "execution_count": 43,
   "id": "48319f2f",
   "metadata": {},
   "outputs": [],
   "source": [
    "generate_evaluate_chain=SequentialChain(chains=[quiz_chain, review_chain], input_variables=[\"text\", \"number\", \"subject\", \"tone\", \"response_json\"],\n",
    "                                        output_variables=[\"quiz\", \"review\"], verbose=True,)"
   ]
  },
  {
   "cell_type": "code",
   "execution_count": 44,
   "id": "7ce69552",
   "metadata": {},
   "outputs": [
    {
     "name": "stderr",
     "output_type": "stream",
     "text": [
      "<>:1: SyntaxWarning: invalid escape sequence '\\C'\n",
      "<>:1: SyntaxWarning: invalid escape sequence '\\C'\n",
      "C:\\Users\\Rajat Pandey\\AppData\\Local\\Temp\\ipykernel_34732\\2136195752.py:1: SyntaxWarning: invalid escape sequence '\\C'\n",
      "  \"\"\"pdf_reader=PyPDF2.PdfReader(r\"C:\\Complete_Content\\All_Project\\TEST_FOR_EVERYTHING\\langchain\\experiments\\Big Data Assessment.pdf\")\n"
     ]
    },
    {
     "data": {
      "text/plain": [
       "'pdf_reader=PyPDF2.PdfReader(r\"C:\\\\Complete_Content\\\\All_Project\\\\TEST_FOR_EVERYTHING\\\\langchain\\\\experiments\\\\Big Data Assessment.pdf\")\\ntext = \"\"\\nfor page in pdf_reader.pages:\\n    text += page.extract_text()'"
      ]
     },
     "execution_count": 44,
     "metadata": {},
     "output_type": "execute_result"
    }
   ],
   "source": [
    "\n",
    "\"\"\"pdf_reader=PyPDF2.PdfReader(r\"C:\\Complete_Content\\All_Project\\TEST_FOR_EVERYTHING\\langchain\\experiments\\Big Data Assessment.pdf\")\n",
    "text = \"\"\n",
    "for page in pdf_reader.pages:\n",
    "    text += page.extract_text()\"\"\""
   ]
  },
  {
   "cell_type": "code",
   "execution_count": 46,
   "id": "d405aac0",
   "metadata": {},
   "outputs": [],
   "source": [
    "file_path = r\"C:\\Users\\Rajat Pandey\\Desktop\\AI Engineering\\mcqgen_0.1\\data.txt\""
   ]
  },
  {
   "cell_type": "code",
   "execution_count": 47,
   "id": "2b08a567",
   "metadata": {},
   "outputs": [
    {
     "data": {
      "text/plain": [
       "'C:\\\\Users\\\\Rajat Pandey\\\\Desktop\\\\AI Engineering\\\\mcqgen_0.1\\\\data.txt'"
      ]
     },
     "execution_count": 47,
     "metadata": {},
     "output_type": "execute_result"
    }
   ],
   "source": [
    "file_path"
   ]
  },
  {
   "cell_type": "code",
   "execution_count": 48,
   "id": "d4b41624",
   "metadata": {},
   "outputs": [],
   "source": [
    "with open(file_path, 'r') as file:\n",
    "    TEXT = file.read()"
   ]
  },
  {
   "cell_type": "code",
   "execution_count": 50,
   "id": "c1730c28",
   "metadata": {},
   "outputs": [
    {
     "name": "stdout",
     "output_type": "stream",
     "text": [
      "The term machine learning was coined in 1959 by Arthur Samuel, an IBM employee and pioneer in the field of computer gaming and artificial intelligence.[6][7] The synonym self-teaching computers was also used in this time period.[8][9]\n",
      "\n",
      "The earliest machine learning program was introduced in the 1950s when Arthur Samuel invented a computer program that calculated the winning chance in checkers for each side, but the history of machine learning roots back to decades of human desire and effort to study human cognitive processes.[10] In 1949, Canadian psychologist Donald Hebb published the book The Organization of Behavior, in which he introduced a theoretical neural structure formed by certain interactions among nerve cells.[11] Hebb's model of neurons interacting with one another set a groundwork for how AIs and machine learning algorithms work under nodes, or artificial neurons used by computers to communicate data.[10] Other researchers who have studied human cognitive systems contributed to the modern machine learning technologies as well, including logician Walter Pitts and Warren McCulloch, who proposed the early mathematical models of neural networks to come up with algorithms that mirror human thought processes.[10]\n",
      "\n",
      "By the early 1960s, an experimental \"learning machine\" with punched tape memory, called Cybertron, had been developed by Raytheon Company to analyse sonar signals, electrocardiograms, and speech patterns using rudimentary reinforcement learning. It was repetitively \"trained\" by a human operator/teacher to recognise patterns and equipped with a \"goof\" button to cause it to reevaluate incorrect decisions.[12] A representative book on research into machine learning during the 1960s was Nilsson's book on Learning Machines, dealing mostly with machine learning for pattern classification.[13] Interest related to pattern recognition continued into the 1970s, as described by Duda and Hart in 1973.[14] In 1981 a report was given on using teaching strategies so that an artificial neural network learns to recognise 40 characters (26 letters, 10 digits, and 4 special symbols) from a computer terminal.[15]\n",
      "\n",
      "Tom M. Mitchell provided a widely quoted, more formal definition of the algorithms studied in the machine learning field: \"A computer program is said to learn from experience E with respect to some class of tasks T and performance measure P if its performance at tasks in T, as measured by P, improves with experience E.\"[16] This definition of the tasks in which machine learning is concerned offers a fundamentally operational definition rather than defining the field in cognitive terms. This follows Alan Turing's proposal in his paper \"Computing Machinery and Intelligence\", in which the question \"Can machines think?\" is replaced with the question \"Can machines do what we (as thinking entities) can do?\".[17]\n",
      "\n",
      "Modern-day machine learning has two objectives. One is to classify data based on models which have been developed; the other purpose is to make predictions for future outcomes based on these models. A hypothetical algorithm specific to classifying data may use computer vision of moles coupled with supervised learning in order to train it to classify the cancerous moles. A machine learning algorithm for stock trading may inform the trader of future potential predictions.\n"
     ]
    }
   ],
   "source": [
    "print(TEXT)"
   ]
  },
  {
   "cell_type": "code",
   "execution_count": 51,
   "id": "e244f681",
   "metadata": {},
   "outputs": [
    {
     "data": {
      "text/plain": [
       "'{\"1\": {\"mcq\": \"multiple choice question\", \"options\": {\"a\": \"choice here\", \"b\": \"choice here\", \"c\": \"choice here\", \"d\": \"choice here\"}, \"correct\": \"correct answer\"}, \"2\": {\"mcq\": \"multiple choice question\", \"options\": {\"a\": \"choice here\", \"b\": \"choice here\", \"c\": \"choice here\", \"d\": \"choice here\"}, \"correct\": \"correct answer\"}, \"3\": {\"mcq\": \"multiple choice question\", \"options\": {\"a\": \"choice here\", \"b\": \"choice here\", \"c\": \"choice here\", \"d\": \"choice here\"}, \"correct\": \"correct answer\"}}'"
      ]
     },
     "execution_count": 51,
     "metadata": {},
     "output_type": "execute_result"
    }
   ],
   "source": [
    "json.dumps(RESPONSE_JSON)"
   ]
  },
  {
   "cell_type": "code",
   "execution_count": 52,
   "id": "a7796c8f",
   "metadata": {},
   "outputs": [
    {
     "data": {
      "text/plain": [
       "'mcq_count=5\\ngrade=1\\ntone=\"simple'"
      ]
     },
     "execution_count": 52,
     "metadata": {},
     "output_type": "execute_result"
    }
   ],
   "source": [
    "\"\"\"mcq_count=5\n",
    "grade=1\n",
    "tone=\"simple\"\"\""
   ]
  },
  {
   "cell_type": "code",
   "execution_count": 53,
   "id": "c2264fae",
   "metadata": {},
   "outputs": [],
   "source": [
    "NUMBER=5 \n",
    "SUBJECT=\"data science\"\n",
    "TONE=\"simple\""
   ]
  },
  {
   "cell_type": "code",
   "execution_count": 57,
   "id": "f2634939",
   "metadata": {},
   "outputs": [
    {
     "name": "stdout",
     "output_type": "stream",
     "text": [
      "\n",
      "\n",
      "\u001b[1m> Entering new SequentialChain chain...\u001b[0m\n",
      "\n",
      "\n",
      "\u001b[1m> Entering new LLMChain chain...\u001b[0m\n",
      "Prompt after formatting:\n",
      "\u001b[32;1m\u001b[1;3m\n",
      "Text:The term machine learning was coined in 1959 by Arthur Samuel, an IBM employee and pioneer in the field of computer gaming and artificial intelligence.[6][7] The synonym self-teaching computers was also used in this time period.[8][9]\n",
      "\n",
      "The earliest machine learning program was introduced in the 1950s when Arthur Samuel invented a computer program that calculated the winning chance in checkers for each side, but the history of machine learning roots back to decades of human desire and effort to study human cognitive processes.[10] In 1949, Canadian psychologist Donald Hebb published the book The Organization of Behavior, in which he introduced a theoretical neural structure formed by certain interactions among nerve cells.[11] Hebb's model of neurons interacting with one another set a groundwork for how AIs and machine learning algorithms work under nodes, or artificial neurons used by computers to communicate data.[10] Other researchers who have studied human cognitive systems contributed to the modern machine learning technologies as well, including logician Walter Pitts and Warren McCulloch, who proposed the early mathematical models of neural networks to come up with algorithms that mirror human thought processes.[10]\n",
      "\n",
      "By the early 1960s, an experimental \"learning machine\" with punched tape memory, called Cybertron, had been developed by Raytheon Company to analyse sonar signals, electrocardiograms, and speech patterns using rudimentary reinforcement learning. It was repetitively \"trained\" by a human operator/teacher to recognise patterns and equipped with a \"goof\" button to cause it to reevaluate incorrect decisions.[12] A representative book on research into machine learning during the 1960s was Nilsson's book on Learning Machines, dealing mostly with machine learning for pattern classification.[13] Interest related to pattern recognition continued into the 1970s, as described by Duda and Hart in 1973.[14] In 1981 a report was given on using teaching strategies so that an artificial neural network learns to recognise 40 characters (26 letters, 10 digits, and 4 special symbols) from a computer terminal.[15]\n",
      "\n",
      "Tom M. Mitchell provided a widely quoted, more formal definition of the algorithms studied in the machine learning field: \"A computer program is said to learn from experience E with respect to some class of tasks T and performance measure P if its performance at tasks in T, as measured by P, improves with experience E.\"[16] This definition of the tasks in which machine learning is concerned offers a fundamentally operational definition rather than defining the field in cognitive terms. This follows Alan Turing's proposal in his paper \"Computing Machinery and Intelligence\", in which the question \"Can machines think?\" is replaced with the question \"Can machines do what we (as thinking entities) can do?\".[17]\n",
      "\n",
      "Modern-day machine learning has two objectives. One is to classify data based on models which have been developed; the other purpose is to make predictions for future outcomes based on these models. A hypothetical algorithm specific to classifying data may use computer vision of moles coupled with supervised learning in order to train it to classify the cancerous moles. A machine learning algorithm for stock trading may inform the trader of future potential predictions.\n",
      "You are an expert MCQ maker. Given the above text, it is your job to create a quiz  of 5 multiple choice questions for data science students in simple tone. \n",
      "Make sure the questions are not repeated and check all the questions to be conforming the text as well.\n",
      "Make sure to format your response like  RESPONSE_JSON below  and use it as a guide. Ensure to make 5 MCQs\n",
      "### RESPONSE_JSON\n",
      "{\"1\": {\"mcq\": \"multiple choice question\", \"options\": {\"a\": \"choice here\", \"b\": \"choice here\", \"c\": \"choice here\", \"d\": \"choice here\"}, \"correct\": \"correct answer\"}, \"2\": {\"mcq\": \"multiple choice question\", \"options\": {\"a\": \"choice here\", \"b\": \"choice here\", \"c\": \"choice here\", \"d\": \"choice here\"}, \"correct\": \"correct answer\"}, \"3\": {\"mcq\": \"multiple choice question\", \"options\": {\"a\": \"choice here\", \"b\": \"choice here\", \"c\": \"choice here\", \"d\": \"choice here\"}, \"correct\": \"correct answer\"}}\n",
      "\n",
      "\u001b[0m\n",
      "\n",
      "\u001b[1m> Finished chain.\u001b[0m\n",
      "\n",
      "\n",
      "\u001b[1m> Entering new LLMChain chain...\u001b[0m\n",
      "Prompt after formatting:\n",
      "\u001b[32;1m\u001b[1;3m\n",
      "You are an expert english grammarian and writer. Given a Multiple Choice Quiz for data science students.You need to evaluate the complexity of the question and give a complete analysis of the quiz. Only use at max 50 words for complexity analysis. \n",
      "if the quiz is not at per with the cognitive and analytical abilities of the students,update the quiz questions which needs to be changed and change the tone such that it perfectly fits the student abilities\n",
      "Quiz_MCQs:\n",
      "```json\n",
      "{\n",
      "  \"1\": {\n",
      "    \"mcq\": \"Who coined the term 'machine learning'?\",\n",
      "    \"options\": {\n",
      "      \"a\": \"Donald Hebb\",\n",
      "      \"b\": \"Alan Turing\",\n",
      "      \"c\": \"Arthur Samuel\",\n",
      "      \"d\": \"Tom M. Mitchell\"\n",
      "    },\n",
      "    \"correct\": \"c\"\n",
      "  },\n",
      "  \"2\": {\n",
      "    \"mcq\": \"What was the earliest machine learning program mentioned in the text?\",\n",
      "    \"options\": {\n",
      "      \"a\": \"Cybertron\",\n",
      "      \"b\": \"A program for analyzing sonar signals\",\n",
      "      \"c\": \"A checkers-playing program\",\n",
      "      \"d\": \"A program for recognizing handwritten characters\"\n",
      "    },\n",
      "    \"correct\": \"c\"\n",
      "  },\n",
      "  \"3\": {\n",
      "    \"mcq\": \"Which book introduced a theoretical neural structure formed by interactions among nerve cells, laying groundwork for AI and machine learning?\",\n",
      "    \"options\": {\n",
      "      \"a\": \"Learning Machines by Nilsson\",\n",
      "      \"b\": \"Computing Machinery and Intelligence by Turing\",\n",
      "      \"c\": \"The Organization of Behavior by Hebb\",\n",
      "      \"d\": \"A book on pattern recognition by Duda and Hart\"\n",
      "    },\n",
      "    \"correct\": \"c\"\n",
      "  },\n",
      "  \"4\": {\n",
      "    \"mcq\": \"According to Tom M. Mitchell's definition, what improves with experience in machine learning?\",\n",
      "    \"options\": {\n",
      "      \"a\": \"The amount of data processed\",\n",
      "      \"b\": \"The complexity of the algorithms\",\n",
      "      \"c\": \"Performance at tasks\",\n",
      "      \"d\": \"The size of the neural network\"\n",
      "    },\n",
      "    \"correct\": \"c\"\n",
      "  },\n",
      "  \"5\": {\n",
      "    \"mcq\": \"Which of the following is NOT a modern objective of machine learning, as described in the text?\",\n",
      "    \"options\": {\n",
      "      \"a\": \"Classifying data\",\n",
      "      \"b\": \"Making predictions\",\n",
      "      \"c\": \"Developing new programming languages\",\n",
      "      \"d\": \"Both a and b are modern objectives\"\n",
      "\n",
      "    },\n",
      "    \"correct\": \"c\"\n",
      "  }\n",
      "}\n",
      "```\n",
      "\n",
      "Check from an expert English Writer of the above quiz:\n",
      "\u001b[0m\n",
      "\n",
      "\u001b[1m> Finished chain.\u001b[0m\n",
      "\n",
      "\n",
      "\u001b[1m> Entering new LLMChain chain...\u001b[0m\n",
      "Prompt after formatting:\n",
      "\u001b[32;1m\u001b[1;3m\n",
      "You are an expert english grammarian and writer. Given a Multiple Choice Quiz for data science students.You need to evaluate the complexity of the question and give a complete analysis of the quiz. Only use at max 50 words for complexity analysis. \n",
      "if the quiz is not at per with the cognitive and analytical abilities of the students,update the quiz questions which needs to be changed and change the tone such that it perfectly fits the student abilities\n",
      "Quiz_MCQs:\n",
      "```json\n",
      "{\n",
      "  \"1\": {\n",
      "    \"mcq\": \"Who coined the term 'machine learning'?\",\n",
      "    \"options\": {\n",
      "      \"a\": \"Donald Hebb\",\n",
      "      \"b\": \"Alan Turing\",\n",
      "      \"c\": \"Arthur Samuel\",\n",
      "      \"d\": \"Tom M. Mitchell\"\n",
      "    },\n",
      "    \"correct\": \"c\"\n",
      "  },\n",
      "  \"2\": {\n",
      "    \"mcq\": \"What was the earliest machine learning program mentioned in the text?\",\n",
      "    \"options\": {\n",
      "      \"a\": \"Cybertron\",\n",
      "      \"b\": \"A program for analyzing sonar signals\",\n",
      "      \"c\": \"A checkers-playing program\",\n",
      "      \"d\": \"A program for recognizing handwritten characters\"\n",
      "    },\n",
      "    \"correct\": \"c\"\n",
      "  },\n",
      "  \"3\": {\n",
      "    \"mcq\": \"Which book introduced a theoretical neural structure formed by interactions among nerve cells, laying groundwork for AI and machine learning?\",\n",
      "    \"options\": {\n",
      "      \"a\": \"Learning Machines by Nilsson\",\n",
      "      \"b\": \"Computing Machinery and Intelligence by Turing\",\n",
      "      \"c\": \"The Organization of Behavior by Hebb\",\n",
      "      \"d\": \"A book on pattern recognition by Duda and Hart\"\n",
      "    },\n",
      "    \"correct\": \"c\"\n",
      "  },\n",
      "  \"4\": {\n",
      "    \"mcq\": \"According to Tom M. Mitchell's definition, what improves with experience in machine learning?\",\n",
      "    \"options\": {\n",
      "      \"a\": \"The amount of data processed\",\n",
      "      \"b\": \"The complexity of the algorithms\",\n",
      "      \"c\": \"Performance at tasks\",\n",
      "      \"d\": \"The size of the neural network\"\n",
      "    },\n",
      "    \"correct\": \"c\"\n",
      "  },\n",
      "  \"5\": {\n",
      "    \"mcq\": \"Which of the following is NOT a modern objective of machine learning, as described in the text?\",\n",
      "    \"options\": {\n",
      "      \"a\": \"Classifying data\",\n",
      "      \"b\": \"Making predictions\",\n",
      "      \"c\": \"Developing new programming languages\",\n",
      "      \"d\": \"Both a and b are modern objectives\"\n",
      "\n",
      "    },\n",
      "    \"correct\": \"c\"\n",
      "  }\n",
      "}\n",
      "```\n",
      "\n",
      "Check from an expert English Writer of the above quiz:\n",
      "\u001b[0m\n",
      "\n",
      "\u001b[1m> Finished chain.\u001b[0m\n",
      "\n",
      "\u001b[1m> Finished chain.\u001b[0m\n",
      "{'text': 'The term machine learning was coined in 1959 by Arthur Samuel, an IBM employee and pioneer in the field of computer gaming and artificial intelligence.[6][7] The synonym self-teaching computers was also used in this time period.[8][9]\\n\\nThe earliest machine learning program was introduced in the 1950s when Arthur Samuel invented a computer program that calculated the winning chance in checkers for each side, but the history of machine learning roots back to decades of human desire and effort to study human cognitive processes.[10] In 1949, Canadian psychologist Donald Hebb published the book The Organization of Behavior, in which he introduced a theoretical neural structure formed by certain interactions among nerve cells.[11] Hebb\\'s model of neurons interacting with one another set a groundwork for how AIs and machine learning algorithms work under nodes, or artificial neurons used by computers to communicate data.[10] Other researchers who have studied human cognitive systems contributed to the modern machine learning technologies as well, including logician Walter Pitts and Warren McCulloch, who proposed the early mathematical models of neural networks to come up with algorithms that mirror human thought processes.[10]\\n\\nBy the early 1960s, an experimental \"learning machine\" with punched tape memory, called Cybertron, had been developed by Raytheon Company to analyse sonar signals, electrocardiograms, and speech patterns using rudimentary reinforcement learning. It was repetitively \"trained\" by a human operator/teacher to recognise patterns and equipped with a \"goof\" button to cause it to reevaluate incorrect decisions.[12] A representative book on research into machine learning during the 1960s was Nilsson\\'s book on Learning Machines, dealing mostly with machine learning for pattern classification.[13] Interest related to pattern recognition continued into the 1970s, as described by Duda and Hart in 1973.[14] In 1981 a report was given on using teaching strategies so that an artificial neural network learns to recognise 40 characters (26 letters, 10 digits, and 4 special symbols) from a computer terminal.[15]\\n\\nTom M. Mitchell provided a widely quoted, more formal definition of the algorithms studied in the machine learning field: \"A computer program is said to learn from experience E with respect to some class of tasks T and performance measure P if its performance at tasks in T, as measured by P, improves with experience E.\"[16] This definition of the tasks in which machine learning is concerned offers a fundamentally operational definition rather than defining the field in cognitive terms. This follows Alan Turing\\'s proposal in his paper \"Computing Machinery and Intelligence\", in which the question \"Can machines think?\" is replaced with the question \"Can machines do what we (as thinking entities) can do?\".[17]\\n\\nModern-day machine learning has two objectives. One is to classify data based on models which have been developed; the other purpose is to make predictions for future outcomes based on these models. A hypothetical algorithm specific to classifying data may use computer vision of moles coupled with supervised learning in order to train it to classify the cancerous moles. A machine learning algorithm for stock trading may inform the trader of future potential predictions.', 'number': 5, 'subject': 'data science', 'tone': 'simple', 'response_json': '{\"1\": {\"mcq\": \"multiple choice question\", \"options\": {\"a\": \"choice here\", \"b\": \"choice here\", \"c\": \"choice here\", \"d\": \"choice here\"}, \"correct\": \"correct answer\"}, \"2\": {\"mcq\": \"multiple choice question\", \"options\": {\"a\": \"choice here\", \"b\": \"choice here\", \"c\": \"choice here\", \"d\": \"choice here\"}, \"correct\": \"correct answer\"}, \"3\": {\"mcq\": \"multiple choice question\", \"options\": {\"a\": \"choice here\", \"b\": \"choice here\", \"c\": \"choice here\", \"d\": \"choice here\"}, \"correct\": \"correct answer\"}}', 'quiz': '```json\\n{\\n  \"1\": {\\n    \"mcq\": \"Who coined the term \\'machine learning\\'?\",\\n    \"options\": {\\n      \"a\": \"Donald Hebb\",\\n      \"b\": \"Alan Turing\",\\n      \"c\": \"Arthur Samuel\",\\n      \"d\": \"Tom M. Mitchell\"\\n    },\\n    \"correct\": \"c\"\\n  },\\n  \"2\": {\\n    \"mcq\": \"What was the earliest machine learning program mentioned in the text?\",\\n    \"options\": {\\n      \"a\": \"Cybertron\",\\n      \"b\": \"A program for analyzing sonar signals\",\\n      \"c\": \"A checkers-playing program\",\\n      \"d\": \"A program for recognizing handwritten characters\"\\n    },\\n    \"correct\": \"c\"\\n  },\\n  \"3\": {\\n    \"mcq\": \"Which book introduced a theoretical neural structure formed by interactions among nerve cells, laying groundwork for AI and machine learning?\",\\n    \"options\": {\\n      \"a\": \"Learning Machines by Nilsson\",\\n      \"b\": \"Computing Machinery and Intelligence by Turing\",\\n      \"c\": \"The Organization of Behavior by Hebb\",\\n      \"d\": \"A book on pattern recognition by Duda and Hart\"\\n    },\\n    \"correct\": \"c\"\\n  },\\n  \"4\": {\\n    \"mcq\": \"According to Tom M. Mitchell\\'s definition, what improves with experience in machine learning?\",\\n    \"options\": {\\n      \"a\": \"The amount of data processed\",\\n      \"b\": \"The complexity of the algorithms\",\\n      \"c\": \"Performance at tasks\",\\n      \"d\": \"The size of the neural network\"\\n    },\\n    \"correct\": \"c\"\\n  },\\n  \"5\": {\\n    \"mcq\": \"Which of the following is NOT a modern objective of machine learning, as described in the text?\",\\n    \"options\": {\\n      \"a\": \"Classifying data\",\\n      \"b\": \"Making predictions\",\\n      \"c\": \"Developing new programming languages\",\\n      \"d\": \"Both a and b are modern objectives\"\\n\\n    },\\n    \"correct\": \"c\"\\n  }\\n}\\n```', 'review': 'Complexity Analysis:\\n\\nThe quiz exhibits moderate complexity.  Questions 1 and 4 are straightforward recall; 2 and 3 require slightly deeper understanding; 5 assesses comprehension of exclusion.  Overall, it\\'s appropriate for introductory data science students.\\n\\n\\nImproved Quiz Questions:\\n\\nThe original quiz is well-written grammatically.  However, to enhance clarity and accessibility, consider these minor adjustments:\\n\\n1. **No change needed.** Clear and concise.\\n\\n2.  **Revised:** \"The text mentions an early machine learning program. Which of the following best describes it?\"  This avoids ambiguity about the \"earliest\" program.\\n\\n3. **Revised:** \"Which book, focusing on neural structures, significantly influenced the development of AI and machine learning?\" This simplifies the phrasing.\\n\\n4. **No change needed.**  Simple and direct.\\n\\n5. **Revised:** \"Which activity is NOT a primary goal of modern machine learning?\" This is more concise and avoids the potentially confusing \"as described in the text\".\\n\\n\\nThe revised questions maintain the original intent while improving readability and reducing potential confusion for students.  The tone remains appropriately formal and academic.'}\n",
      "\n",
      "\u001b[1m> Finished chain.\u001b[0m\n",
      "\n",
      "\u001b[1m> Finished chain.\u001b[0m\n",
      "{'text': 'The term machine learning was coined in 1959 by Arthur Samuel, an IBM employee and pioneer in the field of computer gaming and artificial intelligence.[6][7] The synonym self-teaching computers was also used in this time period.[8][9]\\n\\nThe earliest machine learning program was introduced in the 1950s when Arthur Samuel invented a computer program that calculated the winning chance in checkers for each side, but the history of machine learning roots back to decades of human desire and effort to study human cognitive processes.[10] In 1949, Canadian psychologist Donald Hebb published the book The Organization of Behavior, in which he introduced a theoretical neural structure formed by certain interactions among nerve cells.[11] Hebb\\'s model of neurons interacting with one another set a groundwork for how AIs and machine learning algorithms work under nodes, or artificial neurons used by computers to communicate data.[10] Other researchers who have studied human cognitive systems contributed to the modern machine learning technologies as well, including logician Walter Pitts and Warren McCulloch, who proposed the early mathematical models of neural networks to come up with algorithms that mirror human thought processes.[10]\\n\\nBy the early 1960s, an experimental \"learning machine\" with punched tape memory, called Cybertron, had been developed by Raytheon Company to analyse sonar signals, electrocardiograms, and speech patterns using rudimentary reinforcement learning. It was repetitively \"trained\" by a human operator/teacher to recognise patterns and equipped with a \"goof\" button to cause it to reevaluate incorrect decisions.[12] A representative book on research into machine learning during the 1960s was Nilsson\\'s book on Learning Machines, dealing mostly with machine learning for pattern classification.[13] Interest related to pattern recognition continued into the 1970s, as described by Duda and Hart in 1973.[14] In 1981 a report was given on using teaching strategies so that an artificial neural network learns to recognise 40 characters (26 letters, 10 digits, and 4 special symbols) from a computer terminal.[15]\\n\\nTom M. Mitchell provided a widely quoted, more formal definition of the algorithms studied in the machine learning field: \"A computer program is said to learn from experience E with respect to some class of tasks T and performance measure P if its performance at tasks in T, as measured by P, improves with experience E.\"[16] This definition of the tasks in which machine learning is concerned offers a fundamentally operational definition rather than defining the field in cognitive terms. This follows Alan Turing\\'s proposal in his paper \"Computing Machinery and Intelligence\", in which the question \"Can machines think?\" is replaced with the question \"Can machines do what we (as thinking entities) can do?\".[17]\\n\\nModern-day machine learning has two objectives. One is to classify data based on models which have been developed; the other purpose is to make predictions for future outcomes based on these models. A hypothetical algorithm specific to classifying data may use computer vision of moles coupled with supervised learning in order to train it to classify the cancerous moles. A machine learning algorithm for stock trading may inform the trader of future potential predictions.', 'number': 5, 'subject': 'data science', 'tone': 'simple', 'response_json': '{\"1\": {\"mcq\": \"multiple choice question\", \"options\": {\"a\": \"choice here\", \"b\": \"choice here\", \"c\": \"choice here\", \"d\": \"choice here\"}, \"correct\": \"correct answer\"}, \"2\": {\"mcq\": \"multiple choice question\", \"options\": {\"a\": \"choice here\", \"b\": \"choice here\", \"c\": \"choice here\", \"d\": \"choice here\"}, \"correct\": \"correct answer\"}, \"3\": {\"mcq\": \"multiple choice question\", \"options\": {\"a\": \"choice here\", \"b\": \"choice here\", \"c\": \"choice here\", \"d\": \"choice here\"}, \"correct\": \"correct answer\"}}', 'quiz': '```json\\n{\\n  \"1\": {\\n    \"mcq\": \"Who coined the term \\'machine learning\\'?\",\\n    \"options\": {\\n      \"a\": \"Donald Hebb\",\\n      \"b\": \"Alan Turing\",\\n      \"c\": \"Arthur Samuel\",\\n      \"d\": \"Tom M. Mitchell\"\\n    },\\n    \"correct\": \"c\"\\n  },\\n  \"2\": {\\n    \"mcq\": \"What was the earliest machine learning program mentioned in the text?\",\\n    \"options\": {\\n      \"a\": \"Cybertron\",\\n      \"b\": \"A program for analyzing sonar signals\",\\n      \"c\": \"A checkers-playing program\",\\n      \"d\": \"A program for recognizing handwritten characters\"\\n    },\\n    \"correct\": \"c\"\\n  },\\n  \"3\": {\\n    \"mcq\": \"Which book introduced a theoretical neural structure formed by interactions among nerve cells, laying groundwork for AI and machine learning?\",\\n    \"options\": {\\n      \"a\": \"Learning Machines by Nilsson\",\\n      \"b\": \"Computing Machinery and Intelligence by Turing\",\\n      \"c\": \"The Organization of Behavior by Hebb\",\\n      \"d\": \"A book on pattern recognition by Duda and Hart\"\\n    },\\n    \"correct\": \"c\"\\n  },\\n  \"4\": {\\n    \"mcq\": \"According to Tom M. Mitchell\\'s definition, what improves with experience in machine learning?\",\\n    \"options\": {\\n      \"a\": \"The amount of data processed\",\\n      \"b\": \"The complexity of the algorithms\",\\n      \"c\": \"Performance at tasks\",\\n      \"d\": \"The size of the neural network\"\\n    },\\n    \"correct\": \"c\"\\n  },\\n  \"5\": {\\n    \"mcq\": \"Which of the following is NOT a modern objective of machine learning, as described in the text?\",\\n    \"options\": {\\n      \"a\": \"Classifying data\",\\n      \"b\": \"Making predictions\",\\n      \"c\": \"Developing new programming languages\",\\n      \"d\": \"Both a and b are modern objectives\"\\n\\n    },\\n    \"correct\": \"c\"\\n  }\\n}\\n```', 'review': 'Complexity Analysis:\\n\\nThe quiz exhibits moderate complexity.  Questions 1 and 4 are straightforward recall; 2 and 3 require slightly deeper understanding; 5 assesses comprehension of exclusion.  Overall, it\\'s appropriate for introductory data science students.\\n\\n\\nImproved Quiz Questions:\\n\\nThe original quiz is well-written grammatically.  However, to enhance clarity and accessibility, consider these minor adjustments:\\n\\n1. **No change needed.** Clear and concise.\\n\\n2.  **Revised:** \"The text mentions an early machine learning program. Which of the following best describes it?\"  This avoids ambiguity about the \"earliest\" program.\\n\\n3. **Revised:** \"Which book, focusing on neural structures, significantly influenced the development of AI and machine learning?\" This simplifies the phrasing.\\n\\n4. **No change needed.**  Simple and direct.\\n\\n5. **Revised:** \"Which activity is NOT a primary goal of modern machine learning?\" This is more concise and avoids the potentially confusing \"as described in the text\".\\n\\n\\nThe revised questions maintain the original intent while improving readability and reducing potential confusion for students.  The tone remains appropriately formal and academic.'}\n"
     ]
    }
   ],
   "source": [
    "from langchain.callbacks import StdOutCallbackHandler\n",
    "\n",
    "handler = StdOutCallbackHandler()\n",
    "payload = {\n",
    "  \"text\": TEXT, \"number\": NUMBER, \"subject\": SUBJECT,\n",
    "  \"tone\": TONE, \"response_json\": json.dumps(RESPONSE_JSON)\n",
    "}\n",
    "# for LCEL/chains:\n",
    "out = generate_evaluate_chain.invoke(payload, config={\"callbacks\": [handler]})\n",
    "print(out)"
   ]
  },
  {
   "cell_type": "code",
   "execution_count": 63,
   "id": "9a4089a1",
   "metadata": {},
   "outputs": [],
   "source": [
    "from langchain.callbacks.base import BaseCallbackHandler\n",
    "\n",
    "class SaveLLMResponseHandler(BaseCallbackHandler):\n",
    "    def __init__(self):\n",
    "        self.last_response = None\n",
    "    def on_llm_end(self, response, **kwargs):\n",
    "        self.last_response = response\n",
    "\n",
    "\n",
    "def extract_usage_from_response(resp):\n",
    "    if resp is None:\n",
    "        return None\n",
    "    meta = getattr(resp, \"response_metadata\", None) or (resp.get(\"response_metadata\") if isinstance(resp, dict) else None)\n",
    "    if not meta:\n",
    "        return None\n",
    "    return meta.get(\"usage_metadata\") or meta.get(\"usage\") or meta.get(\"token_count\") or None\n",
    "\n",
    "\n",
    "def print_usage(usage):\n",
    "    if not usage:\n",
    "        print(\"No usage metadata found.\")\n",
    "        return\n",
    "    total = usage.get(\"total_tokens\") or usage.get(\"total_token_count\") or usage.get(\"total\") or usage.get(\"tokens\")\n",
    "    prompt = usage.get(\"prompt_tokens\") or usage.get(\"input_token_count\") or usage.get(\"input_tokens\")\n",
    "    completion = usage.get(\"completion_tokens\") or usage.get(\"output_token_count\") or usage.get(\"output_tokens\")\n",
    "    cost = usage.get(\"total_cost\") or usage.get(\"cost\")\n",
    "    print(\"usage raw:\", usage)\n",
    "    print(f\"Total tokens: {total}\")\n",
    "    print(f\"Prompt tokens: {prompt}\")\n",
    "    print(f\"Completion tokens: {completion}\")\n",
    "    print(f\"Cost (if provided): {cost}\")\n"
   ]
  },
  {
   "cell_type": "code",
   "execution_count": 64,
   "id": "86e87f6e",
   "metadata": {},
   "outputs": [
    {
     "name": "stdout",
     "output_type": "stream",
     "text": [
      "\n",
      "\n",
      "\u001b[1m> Entering new SequentialChain chain...\u001b[0m\n",
      "\n",
      "\n",
      "\u001b[1m> Entering new LLMChain chain...\u001b[0m\n",
      "Prompt after formatting:\n",
      "\u001b[32;1m\u001b[1;3m\n",
      "Text:The term machine learning was coined in 1959 by Arthur Samuel, an IBM employee and pioneer in the field of computer gaming and artificial intelligence.[6][7] The synonym self-teaching computers was also used in this time period.[8][9]\n",
      "\n",
      "The earliest machine learning program was introduced in the 1950s when Arthur Samuel invented a computer program that calculated the winning chance in checkers for each side, but the history of machine learning roots back to decades of human desire and effort to study human cognitive processes.[10] In 1949, Canadian psychologist Donald Hebb published the book The Organization of Behavior, in which he introduced a theoretical neural structure formed by certain interactions among nerve cells.[11] Hebb's model of neurons interacting with one another set a groundwork for how AIs and machine learning algorithms work under nodes, or artificial neurons used by computers to communicate data.[10] Other researchers who have studied human cognitive systems contributed to the modern machine learning technologies as well, including logician Walter Pitts and Warren McCulloch, who proposed the early mathematical models of neural networks to come up with algorithms that mirror human thought processes.[10]\n",
      "\n",
      "By the early 1960s, an experimental \"learning machine\" with punched tape memory, called Cybertron, had been developed by Raytheon Company to analyse sonar signals, electrocardiograms, and speech patterns using rudimentary reinforcement learning. It was repetitively \"trained\" by a human operator/teacher to recognise patterns and equipped with a \"goof\" button to cause it to reevaluate incorrect decisions.[12] A representative book on research into machine learning during the 1960s was Nilsson's book on Learning Machines, dealing mostly with machine learning for pattern classification.[13] Interest related to pattern recognition continued into the 1970s, as described by Duda and Hart in 1973.[14] In 1981 a report was given on using teaching strategies so that an artificial neural network learns to recognise 40 characters (26 letters, 10 digits, and 4 special symbols) from a computer terminal.[15]\n",
      "\n",
      "Tom M. Mitchell provided a widely quoted, more formal definition of the algorithms studied in the machine learning field: \"A computer program is said to learn from experience E with respect to some class of tasks T and performance measure P if its performance at tasks in T, as measured by P, improves with experience E.\"[16] This definition of the tasks in which machine learning is concerned offers a fundamentally operational definition rather than defining the field in cognitive terms. This follows Alan Turing's proposal in his paper \"Computing Machinery and Intelligence\", in which the question \"Can machines think?\" is replaced with the question \"Can machines do what we (as thinking entities) can do?\".[17]\n",
      "\n",
      "Modern-day machine learning has two objectives. One is to classify data based on models which have been developed; the other purpose is to make predictions for future outcomes based on these models. A hypothetical algorithm specific to classifying data may use computer vision of moles coupled with supervised learning in order to train it to classify the cancerous moles. A machine learning algorithm for stock trading may inform the trader of future potential predictions.\n",
      "You are an expert MCQ maker. Given the above text, it is your job to create a quiz  of 5 multiple choice questions for data science students in simple tone. \n",
      "Make sure the questions are not repeated and check all the questions to be conforming the text as well.\n",
      "Make sure to format your response like  RESPONSE_JSON below  and use it as a guide. Ensure to make 5 MCQs\n",
      "### RESPONSE_JSON\n",
      "{\"1\": {\"mcq\": \"multiple choice question\", \"options\": {\"a\": \"choice here\", \"b\": \"choice here\", \"c\": \"choice here\", \"d\": \"choice here\"}, \"correct\": \"correct answer\"}, \"2\": {\"mcq\": \"multiple choice question\", \"options\": {\"a\": \"choice here\", \"b\": \"choice here\", \"c\": \"choice here\", \"d\": \"choice here\"}, \"correct\": \"correct answer\"}, \"3\": {\"mcq\": \"multiple choice question\", \"options\": {\"a\": \"choice here\", \"b\": \"choice here\", \"c\": \"choice here\", \"d\": \"choice here\"}, \"correct\": \"correct answer\"}}\n",
      "\n",
      "\u001b[0m\n",
      "\n",
      "\u001b[1m> Finished chain.\u001b[0m\n",
      "\n",
      "\n",
      "\u001b[1m> Entering new LLMChain chain...\u001b[0m\n",
      "Prompt after formatting:\n",
      "\u001b[32;1m\u001b[1;3m\n",
      "You are an expert english grammarian and writer. Given a Multiple Choice Quiz for data science students.You need to evaluate the complexity of the question and give a complete analysis of the quiz. Only use at max 50 words for complexity analysis. \n",
      "if the quiz is not at per with the cognitive and analytical abilities of the students,update the quiz questions which needs to be changed and change the tone such that it perfectly fits the student abilities\n",
      "Quiz_MCQs:\n",
      "```json\n",
      "{\n",
      "  \"1\": {\n",
      "    \"mcq\": \"Who coined the term 'machine learning'?\",\n",
      "    \"options\": {\n",
      "      \"a\": \"Donald Hebb\",\n",
      "      \"b\": \"Alan Turing\",\n",
      "      \"c\": \"Arthur Samuel\",\n",
      "      \"d\": \"Tom M. Mitchell\"\n",
      "    },\n",
      "    \"correct\": \"c\"\n",
      "  },\n",
      "  \"2\": {\n",
      "    \"mcq\": \"What was an early application of machine learning mentioned in the text?\",\n",
      "    \"options\": {\n",
      "      \"a\": \"Predicting the weather\",\n",
      "      \"b\": \"Analyzing sonar signals\",\n",
      "      \"c\": \"Translating languages\",\n",
      "      \"d\": \"Playing chess\"\n",
      "    },\n",
      "    \"correct\": \"b\"\n",
      "  },\n",
      "  \"3\": {\n",
      "    \"mcq\": \"Which book introduced a theoretical neural structure that influenced machine learning?\",\n",
      "    \"options\": {\n",
      "      \"a\": \"Learning Machines by Nilsson\",\n",
      "      \"b\": \"Computing Machinery and Intelligence by Turing\",\n",
      "      \"c\": \"The Organization of Behavior by Hebb\",\n",
      "      \"d\": \"A book on pattern recognition by Duda and Hart\"\n",
      "    },\n",
      "    \"correct\": \"c\"\n",
      "  },\n",
      "  \"4\": {\n",
      "    \"mcq\": \"According to Tom M. Mitchell's definition, what improves with experience in machine learning?\",\n",
      "    \"options\": {\n",
      "      \"a\": \"The complexity of the algorithms\",\n",
      "      \"b\": \"The size of the dataset\",\n",
      "      \"c\": \"Performance at tasks\",\n",
      "      \"d\": \"The number of parameters\"\n",
      "    },\n",
      "    \"correct\": \"c\"\n",
      "  },\n",
      "  \"5\": {\n",
      "    \"mcq\": \"Which of the following is NOT a modern objective of machine learning as described in the text?\",\n",
      "    \"options\": {\n",
      "      \"a\": \"Classifying data\",\n",
      "      \"b\": \"Making predictions\",\n",
      "      \"c\": \"Developing new programming languages\",\n",
      "      \"d\": \"Using developed models for both classification and prediction\"\n",
      "    },\n",
      "    \"correct\": \"c\"\n",
      "  }\n",
      "}\n",
      "```\n",
      "\n",
      "Check from an expert English Writer of the above quiz:\n",
      "\u001b[0m\n",
      "\n",
      "\u001b[1m> Finished chain.\u001b[0m\n",
      "\n",
      "\n",
      "\u001b[1m> Entering new LLMChain chain...\u001b[0m\n",
      "Prompt after formatting:\n",
      "\u001b[32;1m\u001b[1;3m\n",
      "You are an expert english grammarian and writer. Given a Multiple Choice Quiz for data science students.You need to evaluate the complexity of the question and give a complete analysis of the quiz. Only use at max 50 words for complexity analysis. \n",
      "if the quiz is not at per with the cognitive and analytical abilities of the students,update the quiz questions which needs to be changed and change the tone such that it perfectly fits the student abilities\n",
      "Quiz_MCQs:\n",
      "```json\n",
      "{\n",
      "  \"1\": {\n",
      "    \"mcq\": \"Who coined the term 'machine learning'?\",\n",
      "    \"options\": {\n",
      "      \"a\": \"Donald Hebb\",\n",
      "      \"b\": \"Alan Turing\",\n",
      "      \"c\": \"Arthur Samuel\",\n",
      "      \"d\": \"Tom M. Mitchell\"\n",
      "    },\n",
      "    \"correct\": \"c\"\n",
      "  },\n",
      "  \"2\": {\n",
      "    \"mcq\": \"What was an early application of machine learning mentioned in the text?\",\n",
      "    \"options\": {\n",
      "      \"a\": \"Predicting the weather\",\n",
      "      \"b\": \"Analyzing sonar signals\",\n",
      "      \"c\": \"Translating languages\",\n",
      "      \"d\": \"Playing chess\"\n",
      "    },\n",
      "    \"correct\": \"b\"\n",
      "  },\n",
      "  \"3\": {\n",
      "    \"mcq\": \"Which book introduced a theoretical neural structure that influenced machine learning?\",\n",
      "    \"options\": {\n",
      "      \"a\": \"Learning Machines by Nilsson\",\n",
      "      \"b\": \"Computing Machinery and Intelligence by Turing\",\n",
      "      \"c\": \"The Organization of Behavior by Hebb\",\n",
      "      \"d\": \"A book on pattern recognition by Duda and Hart\"\n",
      "    },\n",
      "    \"correct\": \"c\"\n",
      "  },\n",
      "  \"4\": {\n",
      "    \"mcq\": \"According to Tom M. Mitchell's definition, what improves with experience in machine learning?\",\n",
      "    \"options\": {\n",
      "      \"a\": \"The complexity of the algorithms\",\n",
      "      \"b\": \"The size of the dataset\",\n",
      "      \"c\": \"Performance at tasks\",\n",
      "      \"d\": \"The number of parameters\"\n",
      "    },\n",
      "    \"correct\": \"c\"\n",
      "  },\n",
      "  \"5\": {\n",
      "    \"mcq\": \"Which of the following is NOT a modern objective of machine learning as described in the text?\",\n",
      "    \"options\": {\n",
      "      \"a\": \"Classifying data\",\n",
      "      \"b\": \"Making predictions\",\n",
      "      \"c\": \"Developing new programming languages\",\n",
      "      \"d\": \"Using developed models for both classification and prediction\"\n",
      "    },\n",
      "    \"correct\": \"c\"\n",
      "  }\n",
      "}\n",
      "```\n",
      "\n",
      "Check from an expert English Writer of the above quiz:\n",
      "\u001b[0m\n",
      "\n",
      "\u001b[1m> Finished chain.\u001b[0m\n",
      "\n",
      "\u001b[1m> Finished chain.\u001b[0m\n",
      "{'text': 'The term machine learning was coined in 1959 by Arthur Samuel, an IBM employee and pioneer in the field of computer gaming and artificial intelligence.[6][7] The synonym self-teaching computers was also used in this time period.[8][9]\\n\\nThe earliest machine learning program was introduced in the 1950s when Arthur Samuel invented a computer program that calculated the winning chance in checkers for each side, but the history of machine learning roots back to decades of human desire and effort to study human cognitive processes.[10] In 1949, Canadian psychologist Donald Hebb published the book The Organization of Behavior, in which he introduced a theoretical neural structure formed by certain interactions among nerve cells.[11] Hebb\\'s model of neurons interacting with one another set a groundwork for how AIs and machine learning algorithms work under nodes, or artificial neurons used by computers to communicate data.[10] Other researchers who have studied human cognitive systems contributed to the modern machine learning technologies as well, including logician Walter Pitts and Warren McCulloch, who proposed the early mathematical models of neural networks to come up with algorithms that mirror human thought processes.[10]\\n\\nBy the early 1960s, an experimental \"learning machine\" with punched tape memory, called Cybertron, had been developed by Raytheon Company to analyse sonar signals, electrocardiograms, and speech patterns using rudimentary reinforcement learning. It was repetitively \"trained\" by a human operator/teacher to recognise patterns and equipped with a \"goof\" button to cause it to reevaluate incorrect decisions.[12] A representative book on research into machine learning during the 1960s was Nilsson\\'s book on Learning Machines, dealing mostly with machine learning for pattern classification.[13] Interest related to pattern recognition continued into the 1970s, as described by Duda and Hart in 1973.[14] In 1981 a report was given on using teaching strategies so that an artificial neural network learns to recognise 40 characters (26 letters, 10 digits, and 4 special symbols) from a computer terminal.[15]\\n\\nTom M. Mitchell provided a widely quoted, more formal definition of the algorithms studied in the machine learning field: \"A computer program is said to learn from experience E with respect to some class of tasks T and performance measure P if its performance at tasks in T, as measured by P, improves with experience E.\"[16] This definition of the tasks in which machine learning is concerned offers a fundamentally operational definition rather than defining the field in cognitive terms. This follows Alan Turing\\'s proposal in his paper \"Computing Machinery and Intelligence\", in which the question \"Can machines think?\" is replaced with the question \"Can machines do what we (as thinking entities) can do?\".[17]\\n\\nModern-day machine learning has two objectives. One is to classify data based on models which have been developed; the other purpose is to make predictions for future outcomes based on these models. A hypothetical algorithm specific to classifying data may use computer vision of moles coupled with supervised learning in order to train it to classify the cancerous moles. A machine learning algorithm for stock trading may inform the trader of future potential predictions.', 'number': 5, 'subject': 'data science', 'tone': 'simple', 'response_json': '{\"1\": {\"mcq\": \"multiple choice question\", \"options\": {\"a\": \"choice here\", \"b\": \"choice here\", \"c\": \"choice here\", \"d\": \"choice here\"}, \"correct\": \"correct answer\"}, \"2\": {\"mcq\": \"multiple choice question\", \"options\": {\"a\": \"choice here\", \"b\": \"choice here\", \"c\": \"choice here\", \"d\": \"choice here\"}, \"correct\": \"correct answer\"}, \"3\": {\"mcq\": \"multiple choice question\", \"options\": {\"a\": \"choice here\", \"b\": \"choice here\", \"c\": \"choice here\", \"d\": \"choice here\"}, \"correct\": \"correct answer\"}}', 'quiz': '```json\\n{\\n  \"1\": {\\n    \"mcq\": \"Who coined the term \\'machine learning\\'?\",\\n    \"options\": {\\n      \"a\": \"Donald Hebb\",\\n      \"b\": \"Alan Turing\",\\n      \"c\": \"Arthur Samuel\",\\n      \"d\": \"Tom M. Mitchell\"\\n    },\\n    \"correct\": \"c\"\\n  },\\n  \"2\": {\\n    \"mcq\": \"What was an early application of machine learning mentioned in the text?\",\\n    \"options\": {\\n      \"a\": \"Predicting the weather\",\\n      \"b\": \"Analyzing sonar signals\",\\n      \"c\": \"Translating languages\",\\n      \"d\": \"Playing chess\"\\n    },\\n    \"correct\": \"b\"\\n  },\\n  \"3\": {\\n    \"mcq\": \"Which book introduced a theoretical neural structure that influenced machine learning?\",\\n    \"options\": {\\n      \"a\": \"Learning Machines by Nilsson\",\\n      \"b\": \"Computing Machinery and Intelligence by Turing\",\\n      \"c\": \"The Organization of Behavior by Hebb\",\\n      \"d\": \"A book on pattern recognition by Duda and Hart\"\\n    },\\n    \"correct\": \"c\"\\n  },\\n  \"4\": {\\n    \"mcq\": \"According to Tom M. Mitchell\\'s definition, what improves with experience in machine learning?\",\\n    \"options\": {\\n      \"a\": \"The complexity of the algorithms\",\\n      \"b\": \"The size of the dataset\",\\n      \"c\": \"Performance at tasks\",\\n      \"d\": \"The number of parameters\"\\n    },\\n    \"correct\": \"c\"\\n  },\\n  \"5\": {\\n    \"mcq\": \"Which of the following is NOT a modern objective of machine learning as described in the text?\",\\n    \"options\": {\\n      \"a\": \"Classifying data\",\\n      \"b\": \"Making predictions\",\\n      \"c\": \"Developing new programming languages\",\\n      \"d\": \"Using developed models for both classification and prediction\"\\n    },\\n    \"correct\": \"c\"\\n  }\\n}\\n```', 'review': 'Complexity Analysis:\\n\\nThe quiz exhibits moderate complexity.  Questions 1 and 2 are straightforward recall; 3 and 4 require deeper understanding of historical context and definitions; 5 assesses comprehension of nuanced concepts.  Overall, it\\'s appropriate for data science students with some foundational knowledge.\\n\\n\\nUpdated Quiz:\\n\\n```json\\n{\\n  \"1\": {\\n    \"mcq\": \"Who is credited with first using the term \\'machine learning\\'?\",\\n    \"options\": {\\n      \"a\": \"Donald Hebb\",\\n      \"b\": \"Alan Turing\",\\n      \"c\": \"Arthur Samuel\",\\n      \"d\": \"Tom M. Mitchell\"\\n    },\\n    \"correct\": \"c\"\\n  },\\n  \"2\": {\\n    \"mcq\": \"The text mentions an early machine learning application.  Which one is it?\",\\n    \"options\": {\\n      \"a\": \"Weather forecasting\",\\n      \"b\": \"Sonar signal analysis\",\\n      \"c\": \"Language translation\",\\n      \"d\": \"Chess playing\"\\n    },\\n    \"correct\": \"b\"\\n  },\\n  \"3\": {\\n    \"mcq\": \"Which influential book described a neural network structure impacting machine learning?\",\\n    \"options\": {\\n      \"a\": \"Nilsson\\'s \\'Learning Machines\\'\",\\n      \"b\": \"Turing\\'s \\'Computing Machinery and Intelligence\\'\",\\n      \"c\": \"Hebb\\'s \\'The Organization of Behavior\\'\",\\n      \"d\": \"Duda and Hart\\'s pattern recognition book\"\\n    },\\n    \"correct\": \"c\"\\n  },\\n  \"4\": {\\n    \"mcq\": \"According to Mitchell\\'s definition, what aspect improves through experience in machine learning?\",\\n    \"options\": {\\n      \"a\": \"Algorithm complexity\",\\n      \"b\": \"Dataset size\",\\n      \"c\": \"Task performance\",\\n      \"d\": \"Number of parameters\"\\n    },\\n    \"correct\": \"c\"\\n  },\\n  \"5\": {\\n    \"mcq\": \"Which is NOT a primary modern goal of machine learning, as discussed in the text?\",\\n    \"options\": {\\n      \"a\": \"Data classification\",\\n      \"b\": \"Prediction\",\\n      \"c\": \"Developing new programming languages\",\\n      \"d\": \"Using models for both classification and prediction\"\\n    },\\n    \"correct\": \"c\"\\n  }\\n}\\n```\\n\\nChanges Made:  The wording is simplified for clarity and conciseness, making the questions more accessible without sacrificing accuracy.  The tone is more conversational and less formal.'}\n",
      "No usage metadata found.\n",
      "\n",
      "\u001b[1m> Finished chain.\u001b[0m\n",
      "\n",
      "\u001b[1m> Finished chain.\u001b[0m\n",
      "{'text': 'The term machine learning was coined in 1959 by Arthur Samuel, an IBM employee and pioneer in the field of computer gaming and artificial intelligence.[6][7] The synonym self-teaching computers was also used in this time period.[8][9]\\n\\nThe earliest machine learning program was introduced in the 1950s when Arthur Samuel invented a computer program that calculated the winning chance in checkers for each side, but the history of machine learning roots back to decades of human desire and effort to study human cognitive processes.[10] In 1949, Canadian psychologist Donald Hebb published the book The Organization of Behavior, in which he introduced a theoretical neural structure formed by certain interactions among nerve cells.[11] Hebb\\'s model of neurons interacting with one another set a groundwork for how AIs and machine learning algorithms work under nodes, or artificial neurons used by computers to communicate data.[10] Other researchers who have studied human cognitive systems contributed to the modern machine learning technologies as well, including logician Walter Pitts and Warren McCulloch, who proposed the early mathematical models of neural networks to come up with algorithms that mirror human thought processes.[10]\\n\\nBy the early 1960s, an experimental \"learning machine\" with punched tape memory, called Cybertron, had been developed by Raytheon Company to analyse sonar signals, electrocardiograms, and speech patterns using rudimentary reinforcement learning. It was repetitively \"trained\" by a human operator/teacher to recognise patterns and equipped with a \"goof\" button to cause it to reevaluate incorrect decisions.[12] A representative book on research into machine learning during the 1960s was Nilsson\\'s book on Learning Machines, dealing mostly with machine learning for pattern classification.[13] Interest related to pattern recognition continued into the 1970s, as described by Duda and Hart in 1973.[14] In 1981 a report was given on using teaching strategies so that an artificial neural network learns to recognise 40 characters (26 letters, 10 digits, and 4 special symbols) from a computer terminal.[15]\\n\\nTom M. Mitchell provided a widely quoted, more formal definition of the algorithms studied in the machine learning field: \"A computer program is said to learn from experience E with respect to some class of tasks T and performance measure P if its performance at tasks in T, as measured by P, improves with experience E.\"[16] This definition of the tasks in which machine learning is concerned offers a fundamentally operational definition rather than defining the field in cognitive terms. This follows Alan Turing\\'s proposal in his paper \"Computing Machinery and Intelligence\", in which the question \"Can machines think?\" is replaced with the question \"Can machines do what we (as thinking entities) can do?\".[17]\\n\\nModern-day machine learning has two objectives. One is to classify data based on models which have been developed; the other purpose is to make predictions for future outcomes based on these models. A hypothetical algorithm specific to classifying data may use computer vision of moles coupled with supervised learning in order to train it to classify the cancerous moles. A machine learning algorithm for stock trading may inform the trader of future potential predictions.', 'number': 5, 'subject': 'data science', 'tone': 'simple', 'response_json': '{\"1\": {\"mcq\": \"multiple choice question\", \"options\": {\"a\": \"choice here\", \"b\": \"choice here\", \"c\": \"choice here\", \"d\": \"choice here\"}, \"correct\": \"correct answer\"}, \"2\": {\"mcq\": \"multiple choice question\", \"options\": {\"a\": \"choice here\", \"b\": \"choice here\", \"c\": \"choice here\", \"d\": \"choice here\"}, \"correct\": \"correct answer\"}, \"3\": {\"mcq\": \"multiple choice question\", \"options\": {\"a\": \"choice here\", \"b\": \"choice here\", \"c\": \"choice here\", \"d\": \"choice here\"}, \"correct\": \"correct answer\"}}', 'quiz': '```json\\n{\\n  \"1\": {\\n    \"mcq\": \"Who coined the term \\'machine learning\\'?\",\\n    \"options\": {\\n      \"a\": \"Donald Hebb\",\\n      \"b\": \"Alan Turing\",\\n      \"c\": \"Arthur Samuel\",\\n      \"d\": \"Tom M. Mitchell\"\\n    },\\n    \"correct\": \"c\"\\n  },\\n  \"2\": {\\n    \"mcq\": \"What was an early application of machine learning mentioned in the text?\",\\n    \"options\": {\\n      \"a\": \"Predicting the weather\",\\n      \"b\": \"Analyzing sonar signals\",\\n      \"c\": \"Translating languages\",\\n      \"d\": \"Playing chess\"\\n    },\\n    \"correct\": \"b\"\\n  },\\n  \"3\": {\\n    \"mcq\": \"Which book introduced a theoretical neural structure that influenced machine learning?\",\\n    \"options\": {\\n      \"a\": \"Learning Machines by Nilsson\",\\n      \"b\": \"Computing Machinery and Intelligence by Turing\",\\n      \"c\": \"The Organization of Behavior by Hebb\",\\n      \"d\": \"A book on pattern recognition by Duda and Hart\"\\n    },\\n    \"correct\": \"c\"\\n  },\\n  \"4\": {\\n    \"mcq\": \"According to Tom M. Mitchell\\'s definition, what improves with experience in machine learning?\",\\n    \"options\": {\\n      \"a\": \"The complexity of the algorithms\",\\n      \"b\": \"The size of the dataset\",\\n      \"c\": \"Performance at tasks\",\\n      \"d\": \"The number of parameters\"\\n    },\\n    \"correct\": \"c\"\\n  },\\n  \"5\": {\\n    \"mcq\": \"Which of the following is NOT a modern objective of machine learning as described in the text?\",\\n    \"options\": {\\n      \"a\": \"Classifying data\",\\n      \"b\": \"Making predictions\",\\n      \"c\": \"Developing new programming languages\",\\n      \"d\": \"Using developed models for both classification and prediction\"\\n    },\\n    \"correct\": \"c\"\\n  }\\n}\\n```', 'review': 'Complexity Analysis:\\n\\nThe quiz exhibits moderate complexity.  Questions 1 and 2 are straightforward recall; 3 and 4 require deeper understanding of historical context and definitions; 5 assesses comprehension of nuanced concepts.  Overall, it\\'s appropriate for data science students with some foundational knowledge.\\n\\n\\nUpdated Quiz:\\n\\n```json\\n{\\n  \"1\": {\\n    \"mcq\": \"Who is credited with first using the term \\'machine learning\\'?\",\\n    \"options\": {\\n      \"a\": \"Donald Hebb\",\\n      \"b\": \"Alan Turing\",\\n      \"c\": \"Arthur Samuel\",\\n      \"d\": \"Tom M. Mitchell\"\\n    },\\n    \"correct\": \"c\"\\n  },\\n  \"2\": {\\n    \"mcq\": \"The text mentions an early machine learning application.  Which one is it?\",\\n    \"options\": {\\n      \"a\": \"Weather forecasting\",\\n      \"b\": \"Sonar signal analysis\",\\n      \"c\": \"Language translation\",\\n      \"d\": \"Chess playing\"\\n    },\\n    \"correct\": \"b\"\\n  },\\n  \"3\": {\\n    \"mcq\": \"Which influential book described a neural network structure impacting machine learning?\",\\n    \"options\": {\\n      \"a\": \"Nilsson\\'s \\'Learning Machines\\'\",\\n      \"b\": \"Turing\\'s \\'Computing Machinery and Intelligence\\'\",\\n      \"c\": \"Hebb\\'s \\'The Organization of Behavior\\'\",\\n      \"d\": \"Duda and Hart\\'s pattern recognition book\"\\n    },\\n    \"correct\": \"c\"\\n  },\\n  \"4\": {\\n    \"mcq\": \"According to Mitchell\\'s definition, what aspect improves through experience in machine learning?\",\\n    \"options\": {\\n      \"a\": \"Algorithm complexity\",\\n      \"b\": \"Dataset size\",\\n      \"c\": \"Task performance\",\\n      \"d\": \"Number of parameters\"\\n    },\\n    \"correct\": \"c\"\\n  },\\n  \"5\": {\\n    \"mcq\": \"Which is NOT a primary modern goal of machine learning, as discussed in the text?\",\\n    \"options\": {\\n      \"a\": \"Data classification\",\\n      \"b\": \"Prediction\",\\n      \"c\": \"Developing new programming languages\",\\n      \"d\": \"Using models for both classification and prediction\"\\n    },\\n    \"correct\": \"c\"\\n  }\\n}\\n```\\n\\nChanges Made:  The wording is simplified for clarity and conciseness, making the questions more accessible without sacrificing accuracy.  The tone is more conversational and less formal.'}\n",
      "No usage metadata found.\n"
     ]
    }
   ],
   "source": [
    "# Run the chain and capture provider response + usage\n",
    "save_handler = SaveLLMResponseHandler()\n",
    "payload = {\"text\": TEXT, \"number\": NUMBER, \"subject\": SUBJECT, \"tone\": TONE, \"response_json\": json.dumps(RESPONSE_JSON)}\n",
    "out = generate_evaluate_chain.invoke(payload, config={\"callbacks\": [handler, save_handler]})\n",
    "print(out)\n",
    "resp = getattr(save_handler, 'last_response', None)\n",
    "usage = extract_usage_from_response(resp)\n",
    "print_usage(usage)\n"
   ]
  },
  {
   "cell_type": "code",
   "execution_count": 72,
   "id": "8dec108e",
   "metadata": {},
   "outputs": [
    {
     "data": {
      "text/plain": [
       "{'1': {'mcq': \"Who coined the term 'machine learning'?\",\n",
       "  'options': {'a': 'Donald Hebb',\n",
       "   'b': 'Alan Turing',\n",
       "   'c': 'Arthur Samuel',\n",
       "   'd': 'Tom M. Mitchell'},\n",
       "  'correct': 'c'},\n",
       " '2': {'mcq': 'What was an early application of machine learning mentioned in the text?',\n",
       "  'options': {'a': 'Predicting the weather',\n",
       "   'b': 'Analyzing sonar signals',\n",
       "   'c': 'Translating languages',\n",
       "   'd': 'Playing chess'},\n",
       "  'correct': 'b'},\n",
       " '3': {'mcq': 'Which book introduced a theoretical neural structure that influenced machine learning?',\n",
       "  'options': {'a': 'Learning Machines by Nilsson',\n",
       "   'b': 'Computing Machinery and Intelligence by Turing',\n",
       "   'c': 'The Organization of Behavior by Hebb',\n",
       "   'd': 'A book on pattern recognition by Duda and Hart'},\n",
       "  'correct': 'c'},\n",
       " '4': {'mcq': \"According to Tom M. Mitchell's definition, what improves with experience in machine learning?\",\n",
       "  'options': {'a': 'The complexity of the algorithms',\n",
       "   'b': 'The size of the dataset',\n",
       "   'c': 'Performance at tasks',\n",
       "   'd': 'The number of parameters'},\n",
       "  'correct': 'c'},\n",
       " '5': {'mcq': 'Which of the following is NOT a modern objective of machine learning as described in the text?',\n",
       "  'options': {'a': 'Classifying data',\n",
       "   'b': 'Making predictions',\n",
       "   'c': 'Developing new programming languages',\n",
       "   'd': 'Using developed models for both classification and prediction'},\n",
       "  'correct': 'c'}}"
      ]
     },
     "execution_count": 72,
     "metadata": {},
     "output_type": "execute_result"
    }
   ],
   "source": [
    "# A: locate the quiz string in common variables\n",
    "quiz_str = None\n",
    "if 'out' in globals() and isinstance(out, dict):\n",
    "    quiz_str = out.get('quiz')\n",
    "elif 'resp' in globals():\n",
    "    if isinstance(resp, dict):\n",
    "        quiz_str = resp.get('quiz') or resp.get('content')\n",
    "    else:\n",
    "        quiz_str = getattr(resp, 'content', None)\n",
    "\n",
    "if quiz_str is None:\n",
    "    raise NameError(\"No quiz found in 'out', 'response', or 'resp'. Run the chain and retry.\")\n",
    "\n",
    "# B: parse quiz_str into quiz_dict (robust JSON extraction)\n",
    "import json, re\n",
    "quiz_dict = None\n",
    "if isinstance(quiz_str, dict):\n",
    "    quiz_dict = quiz_str\n",
    "else:\n",
    "    try:\n",
    "        quiz_dict = json.loads(quiz_str)\n",
    "    except Exception:\n",
    "        m = re.search(r'(\\{.*\\})', str(quiz_str), re.DOTALL)\n",
    "        if m:\n",
    "            try:\n",
    "                quiz_dict = json.loads(m.group(1))\n",
    "            except Exception as e:\n",
    "                raise ValueError('Failed to parse JSON from quiz_str: ' + str(e))\n",
    "        else:\n",
    "            raise ValueError('quiz_str is not valid JSON and no JSON substring found.')\n",
    "quiz_dict = {str(k): v for k, v in quiz_dict.items()}  # normalize keys to strings\n",
    "\n",
    "# C: display parsed quiz_dict\n",
    "quiz_dict\n"
   ]
  },
  {
   "cell_type": "code",
   "execution_count": 73,
   "id": "6b6cea9b",
   "metadata": {},
   "outputs": [],
   "source": [
    "quiz_table_data = []\n",
    "for key, value in quiz_dict.items():\n",
    "    mcq = value[\"mcq\"]\n",
    "    options = \" | \".join(\n",
    "        [\n",
    "            f\"{option}: {option_value}\"\n",
    "            for option, option_value in value[\"options\"].items()\n",
    "            ]\n",
    "        )\n",
    "    correct = value[\"correct\"]\n",
    "    quiz_table_data.append({\"MCQ\": mcq, \"Choices\": options, \"Correct\": correct})"
   ]
  },
  {
   "cell_type": "code",
   "execution_count": 74,
   "id": "4ea9472f",
   "metadata": {},
   "outputs": [
    {
     "data": {
      "text/plain": [
       "[{'MCQ': \"Who coined the term 'machine learning'?\",\n",
       "  'Choices': 'a: Donald Hebb | b: Alan Turing | c: Arthur Samuel | d: Tom M. Mitchell',\n",
       "  'Correct': 'c'},\n",
       " {'MCQ': 'What was an early application of machine learning mentioned in the text?',\n",
       "  'Choices': 'a: Predicting the weather | b: Analyzing sonar signals | c: Translating languages | d: Playing chess',\n",
       "  'Correct': 'b'},\n",
       " {'MCQ': 'Which book introduced a theoretical neural structure that influenced machine learning?',\n",
       "  'Choices': 'a: Learning Machines by Nilsson | b: Computing Machinery and Intelligence by Turing | c: The Organization of Behavior by Hebb | d: A book on pattern recognition by Duda and Hart',\n",
       "  'Correct': 'c'},\n",
       " {'MCQ': \"According to Tom M. Mitchell's definition, what improves with experience in machine learning?\",\n",
       "  'Choices': 'a: The complexity of the algorithms | b: The size of the dataset | c: Performance at tasks | d: The number of parameters',\n",
       "  'Correct': 'c'},\n",
       " {'MCQ': 'Which of the following is NOT a modern objective of machine learning as described in the text?',\n",
       "  'Choices': 'a: Classifying data | b: Making predictions | c: Developing new programming languages | d: Using developed models for both classification and prediction',\n",
       "  'Correct': 'c'}]"
      ]
     },
     "execution_count": 74,
     "metadata": {},
     "output_type": "execute_result"
    }
   ],
   "source": [
    "quiz_table_data"
   ]
  },
  {
   "cell_type": "code",
   "execution_count": 75,
   "id": "af0127f4",
   "metadata": {},
   "outputs": [],
   "source": [
    "df=pd.DataFrame(quiz_table_data)"
   ]
  },
  {
   "cell_type": "code",
   "execution_count": 76,
   "id": "6f7371b8",
   "metadata": {},
   "outputs": [
    {
     "data": {
      "text/html": [
       "<div>\n",
       "<style scoped>\n",
       "    .dataframe tbody tr th:only-of-type {\n",
       "        vertical-align: middle;\n",
       "    }\n",
       "\n",
       "    .dataframe tbody tr th {\n",
       "        vertical-align: top;\n",
       "    }\n",
       "\n",
       "    .dataframe thead th {\n",
       "        text-align: right;\n",
       "    }\n",
       "</style>\n",
       "<table border=\"1\" class=\"dataframe\">\n",
       "  <thead>\n",
       "    <tr style=\"text-align: right;\">\n",
       "      <th></th>\n",
       "      <th>MCQ</th>\n",
       "      <th>Choices</th>\n",
       "      <th>Correct</th>\n",
       "    </tr>\n",
       "  </thead>\n",
       "  <tbody>\n",
       "    <tr>\n",
       "      <th>0</th>\n",
       "      <td>Who coined the term 'machine learning'?</td>\n",
       "      <td>a: Donald Hebb | b: Alan Turing | c: Arthur Sa...</td>\n",
       "      <td>c</td>\n",
       "    </tr>\n",
       "    <tr>\n",
       "      <th>1</th>\n",
       "      <td>What was an early application of machine learn...</td>\n",
       "      <td>a: Predicting the weather | b: Analyzing sonar...</td>\n",
       "      <td>b</td>\n",
       "    </tr>\n",
       "    <tr>\n",
       "      <th>2</th>\n",
       "      <td>Which book introduced a theoretical neural str...</td>\n",
       "      <td>a: Learning Machines by Nilsson | b: Computing...</td>\n",
       "      <td>c</td>\n",
       "    </tr>\n",
       "    <tr>\n",
       "      <th>3</th>\n",
       "      <td>According to Tom M. Mitchell's definition, wha...</td>\n",
       "      <td>a: The complexity of the algorithms | b: The s...</td>\n",
       "      <td>c</td>\n",
       "    </tr>\n",
       "    <tr>\n",
       "      <th>4</th>\n",
       "      <td>Which of the following is NOT a modern objecti...</td>\n",
       "      <td>a: Classifying data | b: Making predictions | ...</td>\n",
       "      <td>c</td>\n",
       "    </tr>\n",
       "  </tbody>\n",
       "</table>\n",
       "</div>"
      ],
      "text/plain": [
       "                                                 MCQ  \\\n",
       "0            Who coined the term 'machine learning'?   \n",
       "1  What was an early application of machine learn...   \n",
       "2  Which book introduced a theoretical neural str...   \n",
       "3  According to Tom M. Mitchell's definition, wha...   \n",
       "4  Which of the following is NOT a modern objecti...   \n",
       "\n",
       "                                             Choices Correct  \n",
       "0  a: Donald Hebb | b: Alan Turing | c: Arthur Sa...       c  \n",
       "1  a: Predicting the weather | b: Analyzing sonar...       b  \n",
       "2  a: Learning Machines by Nilsson | b: Computing...       c  \n",
       "3  a: The complexity of the algorithms | b: The s...       c  \n",
       "4  a: Classifying data | b: Making predictions | ...       c  "
      ]
     },
     "execution_count": 76,
     "metadata": {},
     "output_type": "execute_result"
    }
   ],
   "source": [
    "df"
   ]
  },
  {
   "cell_type": "code",
   "execution_count": 77,
   "id": "c91be1c5",
   "metadata": {},
   "outputs": [],
   "source": [
    "df.to_csv(\"Data_Science_Quiz.csv\",index=False)"
   ]
  },
  {
   "cell_type": "code",
   "execution_count": 78,
   "id": "a6a60e25",
   "metadata": {},
   "outputs": [
    {
     "name": "stderr",
     "output_type": "stream",
     "text": [
      "Traceback (most recent call last):\n",
      "  File \"C:\\Users\\Rajat Pandey\\AppData\\Local\\Temp\\ipykernel_34732\\2720247763.py\", line 3, in <module>\n",
      "    c=1/0\n",
      "      ~^~\n",
      "ZeroDivisionError: division by zero\n"
     ]
    }
   ],
   "source": [
    "import traceback\n",
    "try:\n",
    "    c=1/0\n",
    "except Exception as e:\n",
    "        traceback.print_exception(type(e), e, e.__traceback__)"
   ]
  },
  {
   "cell_type": "code",
   "execution_count": 79,
   "id": "77e5f09d",
   "metadata": {},
   "outputs": [],
   "source": [
    "import traceback\n",
    "try:\n",
    "    c=1/0\n",
    "except Exception as e:\n",
    "    tb=e.__traceback__"
   ]
  },
  {
   "cell_type": "code",
   "execution_count": 80,
   "id": "5024fd71",
   "metadata": {},
   "outputs": [
    {
     "name": "stdout",
     "output_type": "stream",
     "text": [
      "File 'C:\\Users\\Rajat Pandey\\AppData\\Local\\Temp\\ipykernel_34732\\977600961.py', line 5, in <module>\n"
     ]
    }
   ],
   "source": [
    "while tb is not None:\n",
    "    frame = tb.tb_frame\n",
    "    filename = frame.f_code.co_filename\n",
    "    lineno = frame.f_lineno\n",
    "    function_name = frame.f_code.co_name\n",
    "\n",
    "    print(f\"File '{filename}', line {lineno}, in {function_name}\")\n",
    "    tb = tb.tb_next  # Move to the next frame in the traceback"
   ]
  }
 ],
 "metadata": {
  "kernelspec": {
   "display_name": "env",
   "language": "python",
   "name": "python3"
  },
  "language_info": {
   "codemirror_mode": {
    "name": "ipython",
    "version": 3
   },
   "file_extension": ".py",
   "mimetype": "text/x-python",
   "name": "python",
   "nbconvert_exporter": "python",
   "pygments_lexer": "ipython3",
   "version": "3.13.5"
  }
 },
 "nbformat": 4,
 "nbformat_minor": 5
}
